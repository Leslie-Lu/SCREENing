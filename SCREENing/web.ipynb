{
 "cells": [
  {
   "cell_type": "code",
   "execution_count": 1,
   "metadata": {},
   "outputs": [],
   "source": [
    "####################### 1. data preparation #######################\n",
    "\n",
    "#----------------------------------变量赋值----------------------------------\n",
    "# HPV亚型感染数量：整数\n",
    "# 以往接受过宫颈癌检查：'Missing'=0,'否'=1,'是'=2\n",
    "# 妇科检查临床诊断是否异常：'Missing'=0,'正常'=1,'异常'=2\n",
    "# 有14种高危HPV阳性：'阴性'=0,'阳性'=1\n",
    "# FTCT结果：'NILM'=0,'HPV检查阴性故不必继续检查'=1,'ASC-US'=2,'LSIL'=3,'AGC'=4,'这部分人没做TCT'=5,'ASC-H'=6,'AGC-FN'=7,'HSIL'=8,'宫颈癌'=9\n",
    "# 以往接受宫颈癌检查时间：'Missing'=0, '没有接受检查因而不必有时间'=1, '三年以内'=2,'三年以上'=3\n",
    "# HPV16：'阴性'=0,'阳性'=1\n",
    "# HPV18：'阴性'=0,'阳性'=1\n",
    "# 年龄：整数\n",
    "# 有可疑高危HPV阳性：'阴性'=0,'阳性'=1\n",
    "import pandas as pd\n",
    "import xgboost as xgb\n",
    "sample_input= pd.read_csv('./SCREENing/sample_data.csv')"
   ]
  },
  {
   "cell_type": "code",
   "execution_count": 2,
   "metadata": {},
   "outputs": [],
   "source": [
    "sample_input.rename(columns= {\n",
    "        '年龄':'Age', '民族':'Ethnicity', \"以往接受过宫颈癌检查\": 'History of cervical cancer screening',\n",
    "                \"以往接受宫颈癌检查时间\": 'Time of cervical cancer screening',\n",
    "                '妇科检查临床诊断是否异常':'Gynecological examination', \n",
    "                '有14种高危HPV阳性':'Positive for any of 14 hrHPV genotypes', '有低危HPV阳性':'Positive for any of lrHPV genotypes',\n",
    "                '有可疑高危HPV阳性':'Positive for any of possible hrHPV genotypes', 'HPV16':'Positive for HPV16', 'HPV18':'Positive for HPV18', \n",
    "                'HPV31':'Positive for HPV31', 'HPV33':'Positive for HPV33', 'HPV35':'Positive for HPV35', 'HPV39':'Positive for HPV39',\n",
    "                'HPV45':'Positive for HPV45', 'HPV51':'Positive for HPV51', 'HPV52':'Positive for HPV52', \n",
    "                'HPV56':'Positive for HPV56', 'HPV58':'Positive for HPV58', 'HPV59':'Positive for HPV59', \n",
    "                'HPV66':'Positive for HPV66', 'HPV68':'Positive for HPV68',\n",
    "                \"HPV11\": 'Positive for HPV11',\"HPV42\": 'Positive for HPV42',\"HPV43\": 'Positive for HPV43',\n",
    "                \"HPV44\": 'Positive for HPV44' ,\"HPV6\": 'Positive for HPV6',\n",
    "                \"HPV81\":'Positive for HPV81',\"HPV53\": 'Positive for HPV53',\n",
    "                'HPV亚型感染数量':'Number of genotypes with HPV infection', 'FTCT结果':'Cervical cytology'\n",
    "                }, inplace=True)"
   ]
  },
  {
   "cell_type": "code",
   "execution_count": 4,
   "metadata": {},
   "outputs": [
    {
     "name": "stderr",
     "output_type": "stream",
     "text": [
      "c:\\Library\\Applications\\vscode\\data\\python3116\\Lib\\site-packages\\xgboost\\core.py:160: UserWarning: [15:21:10] WARNING: C:\\buildkite-agent\\builds\\buildkite-windows-cpu-autoscaling-group-i-0750514818a16474a-1\\xgboost\\xgboost-ci-windows\\src\\common\\error_msg.cc:58: Falling back to prediction using DMatrix due to mismatched devices. This might lead to higher memory usage and slower performance. XGBoost is running on: cuda:0, while the input data is on: cpu.\n",
      "Potential solutions:\n",
      "- Use a data structure that matches the device ordinal in the booster.\n",
      "- Set the device for booster before call to inplace_predict.\n",
      "\n",
      "This warning will only be shown once.\n",
      "\n",
      "  warnings.warn(smsg, UserWarning)\n"
     ]
    },
    {
     "data": {
      "text/plain": [
       "array([0, 0, 0, 0, 0, 0, 0, 0, 0, 0])"
      ]
     },
     "execution_count": 4,
     "metadata": {},
     "output_type": "execute_result"
    }
   ],
   "source": [
    "####################### 2. import CIN2+ model #######################\n",
    "import pickle\n",
    "model_use= pickle.load(open('./SCREENing/xgb_cal.dat', \"rb\"))\n",
    "# get performance results\n",
    "predicted_XG = model_use.predict(sample_input)\n",
    "predicted_XG"
   ]
  },
  {
   "cell_type": "code",
   "execution_count": 7,
   "metadata": {},
   "outputs": [
    {
     "data": {
      "text/plain": [
       "['CCP0',\n",
       " 'CCP0',\n",
       " 'CCP0',\n",
       " 'CCP0',\n",
       " 'CCP0',\n",
       " 'CCP0',\n",
       " 'CCP0',\n",
       " 'CCP0',\n",
       " 'CCP0',\n",
       " 'CCP0']"
      ]
     },
     "execution_count": 7,
     "metadata": {},
     "output_type": "execute_result"
    }
   ],
   "source": [
    "label_mapping = {0: 'CCP0', 1: 'CCP1', 2: 'CCP2', 3: 'CCP3', 4: 'CCP4'}\n",
    "predicted_labels = [label_mapping[pred] for pred in predicted_XG]\n",
    "predicted_labels"
   ]
  }
 ],
 "metadata": {
  "kernelspec": {
   "display_name": "python3116",
   "language": "python",
   "name": "python3"
  },
  "language_info": {
   "codemirror_mode": {
    "name": "ipython",
    "version": 3
   },
   "file_extension": ".py",
   "mimetype": "text/x-python",
   "name": "python",
   "nbconvert_exporter": "python",
   "pygments_lexer": "ipython3",
   "version": "3.11.6"
  }
 },
 "nbformat": 4,
 "nbformat_minor": 2
}
